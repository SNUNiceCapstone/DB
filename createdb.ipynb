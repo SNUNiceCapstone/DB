{
 "cells": [
  {
   "cell_type": "code",
   "execution_count": null,
   "metadata": {},
   "outputs": [
    {
     "name": "stdout",
     "output_type": "stream",
     "text": [
      "✅ 삽입 완료: samsung\n"
     ]
    }
   ],
   "source": [
    "import mysql.connector\n",
    "import csv\n",
    "\n",
    "def insert_csv_to_table(file_path, table_name):\n",
    "    conn = mysql.connector.connect(\n",
    "        host='localhost',\n",
    "        user='root',\n",
    "        password='',\n",
    "        database='NICE'\n",
    "    )\n",
    "    cursor = conn.cursor()\n",
    "\n",
    "    # # 1. 테이블 생성 (없으면)\n",
    "    # cursor.execute(f\"\"\"\n",
    "    #     CREATE TABLE IF NOT EXISTS {table_name} (\n",
    "    #         id INT AUTO_INCREMENT PRIMARY KEY,\n",
    "    #         account_name VARCHAR(255),\n",
    "    #         account_code VARCHAR(20),\n",
    "    #         formula_text TEXT,\n",
    "    #         formula_code TEXT,\n",
    "    #         description TEXT\n",
    "    #     )\n",
    "    # \"\"\")\n",
    "\n",
    "    # 2. CSV 읽어서 삽입\n",
    "    with open(file_path, encoding='utf-8-sig') as f:\n",
    "        reader = csv.reader(f)\n",
    "        next(reader)  # skip header\n",
    "        for row in reader:\n",
    "            account_name, account_code, formula_text, formula_code, description = row\n",
    "            cursor.execute(\n",
    "                f\"\"\"\n",
    "                INSERT INTO {table_name}\n",
    "                (account_name, account_code, formula_text, formula_code, description)\n",
    "                VALUES (%s, %s, %s, %s, %s)\n",
    "                \"\"\",\n",
    "                (account_name, account_code, formula_text, formula_code, description)\n",
    "            )\n",
    "\n",
    "    conn.commit()\n",
    "    cursor.close()\n",
    "    conn.close()\n",
    "    print(f\"삽입 완료: {table_name}\")\n",
    "\n",
    "insert_csv_to_table('/Users/bag-yunji/Desktop/NICE/정만이/윤지/samsung/2023계산식/samsung/samsung_2023_26_final.csv', 'samsung')"
   ]
  }
 ],
 "metadata": {
  "kernelspec": {
   "display_name": "SNU",
   "language": "python",
   "name": "python3"
  },
  "language_info": {
   "codemirror_mode": {
    "name": "ipython",
    "version": 3
   },
   "file_extension": ".py",
   "mimetype": "text/x-python",
   "name": "python",
   "nbconvert_exporter": "python",
   "pygments_lexer": "ipython3",
   "version": "3.9.19"
  }
 },
 "nbformat": 4,
 "nbformat_minor": 2
}
